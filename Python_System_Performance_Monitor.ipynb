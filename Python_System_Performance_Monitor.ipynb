{
  "cells": [
    {
      "cell_type": "markdown",
      "metadata": {
        "id": "view-in-github",
        "colab_type": "text"
      },
      "source": [
        "<a href=\"https://colab.research.google.com/github/abhimehro/personal-config/blob/main/Python_System_Performance_Monitor.ipynb\" target=\"_parent\"><img src=\"https://colab.research.google.com/assets/colab-badge.svg\" alt=\"Open In Colab\"/></a>"
      ]
    },
    {
      "cell_type": "code",
      "source": [
        "# system_monitor.py\n",
        "# Author: Gemini\n",
        "# Description: A Python script to monitor and log system CPU and memory usage.\n",
        "# Requires the 'psutil' library. To install: pip install psutil\n",
        "\n",
        "import psutil\n",
        "import time\n",
        "import csv\n",
        "from datetime import datetime\n",
        "\n",
        "# --- Configuration ---\n",
        "# You can change these values to suit your needs.\n",
        "\n",
        "# The interval in seconds at which to log data.\n",
        "LOG_INTERVAL_SECONDS = 5\n",
        "\n",
        "# The name of the file where logs will be saved.\n",
        "LOG_FILE_NAME = 'system_performance_log.csv'\n",
        "\n",
        "def get_performance_metrics():\n",
        "    \"\"\"\n",
        "    Retrieves the current CPU and memory usage percentages.\n",
        "\n",
        "    Returns:\n",
        "        A tuple containing CPU percentage and memory percentage.\n",
        "    \"\"\"\n",
        "    # Get CPU usage percentage. The 'interval' parameter is non-blocking.\n",
        "    cpu_percent = psutil.cpu_percent(interval=1)\n",
        "\n",
        "    # Get memory usage details. psutil.virtual_memory() returns a named tuple.\n",
        "    memory_info = psutil.virtual_memory()\n",
        "    memory_percent = memory_info.percent\n",
        "\n",
        "    return cpu_percent, memory_percent\n",
        "\n",
        "def setup_log_file():\n",
        "    \"\"\"\n",
        "    Creates the log file if it doesn't exist and writes the CSV header.\n",
        "    \"\"\"\n",
        "    try:\n",
        "        # Check if file exists to avoid writing headers repeatedly.\n",
        "        # We open in 'x' mode which creates a new file and fails if it already exists.\n",
        "        with open(LOG_FILE_NAME, 'x', newline='') as csvfile:\n",
        "            writer = csv.writer(csvfile)\n",
        "            # Write the header row for the CSV file.\n",
        "            writer.writerow(['timestamp', 'cpu_percent', 'memory_percent'])\n",
        "            print(f\"Log file '{LOG_FILE_NAME}' created.\")\n",
        "    except FileExistsError:\n",
        "        # If the file already exists, we don't need to do anything.\n",
        "        print(f\"Appending to existing log file '{LOG_FILE_NAME}'.\")\n",
        "        pass\n",
        "\n",
        "\n",
        "def log_metrics_to_file(cpu, mem):\n",
        "    \"\"\"\n",
        "    Appends the given CPU and memory metrics to the log file with a timestamp.\n",
        "\n",
        "    Args:\n",
        "        cpu (float): The CPU usage percentage.\n",
        "        mem (float): The memory usage percentage.\n",
        "    \"\"\"\n",
        "    # Get the current timestamp in a readable format (ISO 8601).\n",
        "    timestamp = datetime.now().strftime('%Y-%m-%d %H:%M:%S')\n",
        "\n",
        "    # Open the file in append mode ('a') to add new data.\n",
        "    with open(LOG_FILE_NAME, 'a', newline='') as csvfile:\n",
        "        writer = csv.writer(csvfile)\n",
        "        writer.writerow([timestamp, cpu, mem])\n",
        "\n",
        "\n",
        "def main():\n",
        "    \"\"\"\n",
        "    Main function to run the monitoring loop.\n",
        "    \"\"\"\n",
        "    print(\"--- System Performance Monitor ---\")\n",
        "\n",
        "    # Ensure the log file is ready for writing.\n",
        "    setup_log_file()\n",
        "\n",
        "    print(f\"Starting monitoring... Logging every {LOG_INTERVAL_SECONDS} seconds.\")\n",
        "    print(\"Press Ctrl+C to stop.\")\n",
        "\n",
        "    try:\n",
        "        while True:\n",
        "            # Get the latest performance metrics.\n",
        "            cpu_usage, memory_usage = get_performance_metrics()\n",
        "\n",
        "            # Log the metrics to our file.\n",
        "            log_metrics_to_file(cpu_usage, memory_usage)\n",
        "\n",
        "            # Print to console for real-time view. The \\r and end='' parts\n",
        "            # make the line overwrite itself for a cleaner display.\n",
        "            print(f\"\\rCurrent Usage -> CPU: {cpu_usage:5.1f}% | Memory: {memory_usage:5.1f}%\", end='')\n",
        "\n",
        "            # Wait for the specified interval before the next reading.\n",
        "            time.sleep(LOG_INTERVAL_SECONDS)\n",
        "\n",
        "    except KeyboardInterrupt:\n",
        "        # Handle the user pressing Ctrl+C to exit gracefully.\n",
        "        print(\"\\nMonitoring stopped by user. Log file saved.\")\n",
        "    except Exception as e:\n",
        "        # Catch any other potential errors during execution.\n",
        "        print(f\"\\nAn error occurred: {e}\")\n",
        "\n",
        "if __name__ == \"__main__\":\n",
        "    # This ensures the script runs only when executed directly (not imported).\n",
        "    main()"
      ],
      "outputs": [
        {
          "output_type": "stream",
          "name": "stdout",
          "text": [
            "--- System Performance Monitor ---\n",
            "Log file 'system_performance_log.csv' created.\n",
            "Starting monitoring... Logging every 5 seconds.\n",
            "Press Ctrl+C to stop.\n",
            "Current Usage -> CPU:   4.6% | Memory:   7.6%"
          ]
        }
      ],
      "execution_count": null,
      "metadata": {
        "colab": {
          "base_uri": "https://localhost:8080/"
        },
        "id": "JkeCJym0jgdu",
        "outputId": "24a9b528-fa63-4086-8f6c-82c4c6b1a008"
      }
    },
    {
      "cell_type": "markdown",
      "source": [
        "# New Section"
      ],
      "metadata": {
        "id": "6g9XiaUBjyqj"
      }
    }
  ],
  "metadata": {
    "colab": {
      "provenance": [],
      "toc_visible": true,
      "include_colab_link": true
    },
    "kernelspec": {
      "display_name": "Python 3",
      "name": "python3"
    }
  },
  "nbformat": 4,
  "nbformat_minor": 0
}